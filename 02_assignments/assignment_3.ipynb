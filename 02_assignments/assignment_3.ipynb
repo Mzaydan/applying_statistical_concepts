{
 "cells": [
  {
   "cell_type": "markdown",
   "id": "7b0bcac6-5086-4f4e-928a-570a9ff7ae58",
   "metadata": {},
   "source": [
    "# Assignment 3"
   ]
  },
  {
   "cell_type": "markdown",
   "id": "5fce0350-2a17-4e93-8d4c-0b8748fdfc32",
   "metadata": {},
   "source": [
    "As before, if a question can be answered with 'yes/no', or a numeric value, you may simply state as much. If you incorporate code from the internet (which is not required and generally not advisable), please cite the source within your code (providing a URL is sufficient).\n",
    "\n",
    "We will go through comparable code and concepts in the live learning session. If you run into trouble, start by using the help `help()` function in Python, to get information about the datasets and function in question. The internet is also a great resource when coding (though note that no outside searches are required by the assignment!). If you do incorporate code from the internet, please cite the source within your code (providing a URL is sufficient).\n",
    "\n",
    "Please bring questions that you cannot work out on your own to office hours, work periods or share with your peers on Slack. We will work with you through the issue."
   ]
  },
  {
   "cell_type": "code",
   "execution_count": 2,
   "id": "4e8720d4",
   "metadata": {},
   "outputs": [
    {
     "name": "stdout",
     "output_type": "stream",
     "text": [
      "Requirement already satisfied: pandas in c:\\users\\user\\miniconda3\\envs\\dsi_participant\\lib\\site-packages (1.5.3)\n",
      "Requirement already satisfied: python-dateutil>=2.8.1 in c:\\users\\user\\miniconda3\\envs\\dsi_participant\\lib\\site-packages (from pandas) (2.9.0)\n",
      "Requirement already satisfied: pytz>=2020.1 in c:\\users\\user\\miniconda3\\envs\\dsi_participant\\lib\\site-packages (from pandas) (2024.1)\n",
      "Requirement already satisfied: numpy>=1.20.3 in c:\\users\\user\\miniconda3\\envs\\dsi_participant\\lib\\site-packages (from pandas) (1.24.4)\n",
      "Requirement already satisfied: six>=1.5 in c:\\users\\user\\miniconda3\\envs\\dsi_participant\\lib\\site-packages (from python-dateutil>=2.8.1->pandas) (1.16.0)\n",
      "Note: you may need to restart the kernel to use updated packages.\n",
      "Requirement already satisfied: seaborn in c:\\users\\user\\miniconda3\\envs\\dsi_participant\\lib\\site-packages (0.13.2)\n",
      "Requirement already satisfied: numpy!=1.24.0,>=1.20 in c:\\users\\user\\miniconda3\\envs\\dsi_participant\\lib\\site-packages (from seaborn) (1.24.4)\n",
      "Requirement already satisfied: pandas>=1.2 in c:\\users\\user\\miniconda3\\envs\\dsi_participant\\lib\\site-packages (from seaborn) (1.5.3)\n",
      "Requirement already satisfied: matplotlib!=3.6.1,>=3.4 in c:\\users\\user\\miniconda3\\envs\\dsi_participant\\lib\\site-packages (from seaborn) (3.9.0)\n",
      "Requirement already satisfied: contourpy>=1.0.1 in c:\\users\\user\\miniconda3\\envs\\dsi_participant\\lib\\site-packages (from matplotlib!=3.6.1,>=3.4->seaborn) (1.2.1)\n",
      "Requirement already satisfied: cycler>=0.10 in c:\\users\\user\\miniconda3\\envs\\dsi_participant\\lib\\site-packages (from matplotlib!=3.6.1,>=3.4->seaborn) (0.12.1)\n",
      "Requirement already satisfied: fonttools>=4.22.0 in c:\\users\\user\\miniconda3\\envs\\dsi_participant\\lib\\site-packages (from matplotlib!=3.6.1,>=3.4->seaborn) (4.52.4)\n",
      "Requirement already satisfied: kiwisolver>=1.3.1 in c:\\users\\user\\miniconda3\\envs\\dsi_participant\\lib\\site-packages (from matplotlib!=3.6.1,>=3.4->seaborn) (1.4.5)\n",
      "Requirement already satisfied: packaging>=20.0 in c:\\users\\user\\miniconda3\\envs\\dsi_participant\\lib\\site-packages (from matplotlib!=3.6.1,>=3.4->seaborn) (24.0)\n",
      "Requirement already satisfied: pillow>=8 in c:\\users\\user\\miniconda3\\envs\\dsi_participant\\lib\\site-packages (from matplotlib!=3.6.1,>=3.4->seaborn) (10.3.0)\n",
      "Requirement already satisfied: pyparsing>=2.3.1 in c:\\users\\user\\miniconda3\\envs\\dsi_participant\\lib\\site-packages (from matplotlib!=3.6.1,>=3.4->seaborn) (3.1.2)\n",
      "Requirement already satisfied: python-dateutil>=2.7 in c:\\users\\user\\miniconda3\\envs\\dsi_participant\\lib\\site-packages (from matplotlib!=3.6.1,>=3.4->seaborn) (2.9.0)\n",
      "Requirement already satisfied: importlib-resources>=3.2.0 in c:\\users\\user\\miniconda3\\envs\\dsi_participant\\lib\\site-packages (from matplotlib!=3.6.1,>=3.4->seaborn) (6.4.0)\n",
      "Requirement already satisfied: pytz>=2020.1 in c:\\users\\user\\miniconda3\\envs\\dsi_participant\\lib\\site-packages (from pandas>=1.2->seaborn) (2024.1)\n",
      "Requirement already satisfied: zipp>=3.1.0 in c:\\users\\user\\miniconda3\\envs\\dsi_participant\\lib\\site-packages (from importlib-resources>=3.2.0->matplotlib!=3.6.1,>=3.4->seaborn) (3.17.0)\n",
      "Requirement already satisfied: six>=1.5 in c:\\users\\user\\miniconda3\\envs\\dsi_participant\\lib\\site-packages (from python-dateutil>=2.7->matplotlib!=3.6.1,>=3.4->seaborn) (1.16.0)\n",
      "Note: you may need to restart the kernel to use updated packages.\n",
      "Requirement already satisfied: statsmodels in c:\\users\\user\\miniconda3\\envs\\dsi_participant\\lib\\site-packages (0.14.2)\n",
      "Requirement already satisfied: numpy>=1.22.3 in c:\\users\\user\\miniconda3\\envs\\dsi_participant\\lib\\site-packages (from statsmodels) (1.24.4)\n",
      "Requirement already satisfied: scipy!=1.9.2,>=1.8 in c:\\users\\user\\miniconda3\\envs\\dsi_participant\\lib\\site-packages (from statsmodels) (1.13.1)\n",
      "Requirement already satisfied: pandas!=2.1.0,>=1.4 in c:\\users\\user\\miniconda3\\envs\\dsi_participant\\lib\\site-packages (from statsmodels) (1.5.3)\n",
      "Requirement already satisfied: patsy>=0.5.6 in c:\\users\\user\\miniconda3\\envs\\dsi_participant\\lib\\site-packages (from statsmodels) (0.5.6)\n",
      "Requirement already satisfied: packaging>=21.3 in c:\\users\\user\\miniconda3\\envs\\dsi_participant\\lib\\site-packages (from statsmodels) (24.0)\n",
      "Requirement already satisfied: python-dateutil>=2.8.1 in c:\\users\\user\\miniconda3\\envs\\dsi_participant\\lib\\site-packages (from pandas!=2.1.0,>=1.4->statsmodels) (2.9.0)\n",
      "Requirement already satisfied: pytz>=2020.1 in c:\\users\\user\\miniconda3\\envs\\dsi_participant\\lib\\site-packages (from pandas!=2.1.0,>=1.4->statsmodels) (2024.1)\n",
      "Requirement already satisfied: six in c:\\users\\user\\miniconda3\\envs\\dsi_participant\\lib\\site-packages (from patsy>=0.5.6->statsmodels) (1.16.0)\n",
      "Note: you may need to restart the kernel to use updated packages.\n",
      "Requirement already satisfied: islp in c:\\users\\user\\miniconda3\\envs\\dsi_participant\\lib\\site-packages (0.3.22)\n",
      "Requirement already satisfied: numpy<1.25,>=1.7.1 in c:\\users\\user\\miniconda3\\envs\\dsi_participant\\lib\\site-packages (from islp) (1.24.4)\n",
      "Requirement already satisfied: scipy>=0.9 in c:\\users\\user\\miniconda3\\envs\\dsi_participant\\lib\\site-packages (from islp) (1.13.1)\n",
      "Requirement already satisfied: pandas<=1.9,>=0.20 in c:\\users\\user\\miniconda3\\envs\\dsi_participant\\lib\\site-packages (from islp) (1.5.3)\n",
      "Requirement already satisfied: lxml in c:\\users\\user\\miniconda3\\envs\\dsi_participant\\lib\\site-packages (from islp) (5.2.2)\n",
      "Requirement already satisfied: scikit-learn>=1.2 in c:\\users\\user\\miniconda3\\envs\\dsi_participant\\lib\\site-packages (from islp) (1.5.0)\n",
      "Requirement already satisfied: joblib in c:\\users\\user\\miniconda3\\envs\\dsi_participant\\lib\\site-packages (from islp) (1.4.2)\n",
      "Requirement already satisfied: statsmodels>=0.13 in c:\\users\\user\\miniconda3\\envs\\dsi_participant\\lib\\site-packages (from islp) (0.14.2)\n",
      "Requirement already satisfied: lifelines in c:\\users\\user\\miniconda3\\envs\\dsi_participant\\lib\\site-packages (from islp) (0.28.0)\n",
      "Requirement already satisfied: pygam in c:\\users\\user\\miniconda3\\envs\\dsi_participant\\lib\\site-packages (from islp) (0.9.0)\n",
      "Requirement already satisfied: torch in c:\\users\\user\\miniconda3\\envs\\dsi_participant\\lib\\site-packages (from islp) (2.3.0)\n",
      "Requirement already satisfied: pytorch-lightning in c:\\users\\user\\miniconda3\\envs\\dsi_participant\\lib\\site-packages (from islp) (2.2.5)\n",
      "Requirement already satisfied: torchmetrics in c:\\users\\user\\miniconda3\\envs\\dsi_participant\\lib\\site-packages (from islp) (1.4.0.post0)\n",
      "Requirement already satisfied: python-dateutil>=2.8.1 in c:\\users\\user\\miniconda3\\envs\\dsi_participant\\lib\\site-packages (from pandas<=1.9,>=0.20->islp) (2.9.0)\n",
      "Requirement already satisfied: pytz>=2020.1 in c:\\users\\user\\miniconda3\\envs\\dsi_participant\\lib\\site-packages (from pandas<=1.9,>=0.20->islp) (2024.1)\n",
      "Requirement already satisfied: threadpoolctl>=3.1.0 in c:\\users\\user\\miniconda3\\envs\\dsi_participant\\lib\\site-packages (from scikit-learn>=1.2->islp) (3.5.0)\n",
      "Requirement already satisfied: patsy>=0.5.6 in c:\\users\\user\\miniconda3\\envs\\dsi_participant\\lib\\site-packages (from statsmodels>=0.13->islp) (0.5.6)\n",
      "Requirement already satisfied: packaging>=21.3 in c:\\users\\user\\miniconda3\\envs\\dsi_participant\\lib\\site-packages (from statsmodels>=0.13->islp) (24.0)\n",
      "Requirement already satisfied: matplotlib>=3.0 in c:\\users\\user\\miniconda3\\envs\\dsi_participant\\lib\\site-packages (from lifelines->islp) (3.9.0)\n",
      "Requirement already satisfied: autograd>=1.5 in c:\\users\\user\\miniconda3\\envs\\dsi_participant\\lib\\site-packages (from lifelines->islp) (1.6.2)\n",
      "Requirement already satisfied: autograd-gamma>=0.3 in c:\\users\\user\\miniconda3\\envs\\dsi_participant\\lib\\site-packages (from lifelines->islp) (0.5.0)\n",
      "Requirement already satisfied: formulaic>=0.2.2 in c:\\users\\user\\miniconda3\\envs\\dsi_participant\\lib\\site-packages (from lifelines->islp) (1.0.1)\n",
      "Requirement already satisfied: progressbar2<5.0.0,>=4.2.0 in c:\\users\\user\\miniconda3\\envs\\dsi_participant\\lib\\site-packages (from pygam->islp) (4.4.2)\n",
      "Requirement already satisfied: tqdm>=4.57.0 in c:\\users\\user\\miniconda3\\envs\\dsi_participant\\lib\\site-packages (from pytorch-lightning->islp) (4.66.4)\n",
      "Requirement already satisfied: PyYAML>=5.4 in c:\\users\\user\\miniconda3\\envs\\dsi_participant\\lib\\site-packages (from pytorch-lightning->islp) (6.0.1)\n",
      "Requirement already satisfied: fsspec>=2022.5.0 in c:\\users\\user\\miniconda3\\envs\\dsi_participant\\lib\\site-packages (from fsspec[http]>=2022.5.0->pytorch-lightning->islp) (2024.5.0)\n",
      "Requirement already satisfied: typing-extensions>=4.4.0 in c:\\users\\user\\miniconda3\\envs\\dsi_participant\\lib\\site-packages (from pytorch-lightning->islp) (4.11.0)\n",
      "Requirement already satisfied: lightning-utilities>=0.8.0 in c:\\users\\user\\miniconda3\\envs\\dsi_participant\\lib\\site-packages (from pytorch-lightning->islp) (0.11.2)\n",
      "Requirement already satisfied: filelock in c:\\users\\user\\miniconda3\\envs\\dsi_participant\\lib\\site-packages (from torch->islp) (3.14.0)\n",
      "Requirement already satisfied: sympy in c:\\users\\user\\miniconda3\\envs\\dsi_participant\\lib\\site-packages (from torch->islp) (1.12.1)\n",
      "Requirement already satisfied: networkx in c:\\users\\user\\miniconda3\\envs\\dsi_participant\\lib\\site-packages (from torch->islp) (3.2.1)\n",
      "Requirement already satisfied: jinja2 in c:\\users\\user\\miniconda3\\envs\\dsi_participant\\lib\\site-packages (from torch->islp) (3.1.4)\n",
      "Requirement already satisfied: mkl<=2021.4.0,>=2021.1.1 in c:\\users\\user\\miniconda3\\envs\\dsi_participant\\lib\\site-packages (from torch->islp) (2021.4.0)\n",
      "Requirement already satisfied: future>=0.15.2 in c:\\users\\user\\miniconda3\\envs\\dsi_participant\\lib\\site-packages (from autograd>=1.5->lifelines->islp) (1.0.0)\n",
      "Requirement already satisfied: interface-meta>=1.2.0 in c:\\users\\user\\miniconda3\\envs\\dsi_participant\\lib\\site-packages (from formulaic>=0.2.2->lifelines->islp) (1.3.0)\n",
      "Requirement already satisfied: wrapt>=1.0 in c:\\users\\user\\miniconda3\\envs\\dsi_participant\\lib\\site-packages (from formulaic>=0.2.2->lifelines->islp) (1.16.0)\n",
      "Requirement already satisfied: aiohttp!=4.0.0a0,!=4.0.0a1 in c:\\users\\user\\miniconda3\\envs\\dsi_participant\\lib\\site-packages (from fsspec[http]>=2022.5.0->pytorch-lightning->islp) (3.9.5)\n",
      "Requirement already satisfied: setuptools in c:\\users\\user\\miniconda3\\envs\\dsi_participant\\lib\\site-packages (from lightning-utilities>=0.8.0->pytorch-lightning->islp) (68.2.2)\n",
      "Requirement already satisfied: contourpy>=1.0.1 in c:\\users\\user\\miniconda3\\envs\\dsi_participant\\lib\\site-packages (from matplotlib>=3.0->lifelines->islp) (1.2.1)\n",
      "Requirement already satisfied: cycler>=0.10 in c:\\users\\user\\miniconda3\\envs\\dsi_participant\\lib\\site-packages (from matplotlib>=3.0->lifelines->islp) (0.12.1)\n",
      "Requirement already satisfied: fonttools>=4.22.0 in c:\\users\\user\\miniconda3\\envs\\dsi_participant\\lib\\site-packages (from matplotlib>=3.0->lifelines->islp) (4.52.4)\n",
      "Requirement already satisfied: kiwisolver>=1.3.1 in c:\\users\\user\\miniconda3\\envs\\dsi_participant\\lib\\site-packages (from matplotlib>=3.0->lifelines->islp) (1.4.5)\n",
      "Requirement already satisfied: pillow>=8 in c:\\users\\user\\miniconda3\\envs\\dsi_participant\\lib\\site-packages (from matplotlib>=3.0->lifelines->islp) (10.3.0)\n",
      "Requirement already satisfied: pyparsing>=2.3.1 in c:\\users\\user\\miniconda3\\envs\\dsi_participant\\lib\\site-packages (from matplotlib>=3.0->lifelines->islp) (3.1.2)\n",
      "Requirement already satisfied: importlib-resources>=3.2.0 in c:\\users\\user\\miniconda3\\envs\\dsi_participant\\lib\\site-packages (from matplotlib>=3.0->lifelines->islp) (6.4.0)\n",
      "Requirement already satisfied: intel-openmp==2021.* in c:\\users\\user\\miniconda3\\envs\\dsi_participant\\lib\\site-packages (from mkl<=2021.4.0,>=2021.1.1->torch->islp) (2021.4.0)\n",
      "Requirement already satisfied: tbb==2021.* in c:\\users\\user\\miniconda3\\envs\\dsi_participant\\lib\\site-packages (from mkl<=2021.4.0,>=2021.1.1->torch->islp) (2021.12.0)\n",
      "Requirement already satisfied: six in c:\\users\\user\\miniconda3\\envs\\dsi_participant\\lib\\site-packages (from patsy>=0.5.6->statsmodels>=0.13->islp) (1.16.0)\n",
      "Requirement already satisfied: python-utils>=3.8.1 in c:\\users\\user\\miniconda3\\envs\\dsi_participant\\lib\\site-packages (from progressbar2<5.0.0,>=4.2.0->pygam->islp) (3.8.2)\n",
      "Requirement already satisfied: colorama in c:\\users\\user\\miniconda3\\envs\\dsi_participant\\lib\\site-packages (from tqdm>=4.57.0->pytorch-lightning->islp) (0.4.6)\n",
      "Requirement already satisfied: MarkupSafe>=2.0 in c:\\users\\user\\miniconda3\\envs\\dsi_participant\\lib\\site-packages (from jinja2->torch->islp) (2.1.5)\n",
      "Requirement already satisfied: mpmath<1.4.0,>=1.1.0 in c:\\users\\user\\miniconda3\\envs\\dsi_participant\\lib\\site-packages (from sympy->torch->islp) (1.3.0)\n",
      "Requirement already satisfied: aiosignal>=1.1.2 in c:\\users\\user\\miniconda3\\envs\\dsi_participant\\lib\\site-packages (from aiohttp!=4.0.0a0,!=4.0.0a1->fsspec[http]>=2022.5.0->pytorch-lightning->islp) (1.3.1)\n",
      "Requirement already satisfied: attrs>=17.3.0 in c:\\users\\user\\miniconda3\\envs\\dsi_participant\\lib\\site-packages (from aiohttp!=4.0.0a0,!=4.0.0a1->fsspec[http]>=2022.5.0->pytorch-lightning->islp) (23.2.0)\n",
      "Requirement already satisfied: frozenlist>=1.1.1 in c:\\users\\user\\miniconda3\\envs\\dsi_participant\\lib\\site-packages (from aiohttp!=4.0.0a0,!=4.0.0a1->fsspec[http]>=2022.5.0->pytorch-lightning->islp) (1.4.1)\n",
      "Requirement already satisfied: multidict<7.0,>=4.5 in c:\\users\\user\\miniconda3\\envs\\dsi_participant\\lib\\site-packages (from aiohttp!=4.0.0a0,!=4.0.0a1->fsspec[http]>=2022.5.0->pytorch-lightning->islp) (6.0.5)\n",
      "Requirement already satisfied: yarl<2.0,>=1.0 in c:\\users\\user\\miniconda3\\envs\\dsi_participant\\lib\\site-packages (from aiohttp!=4.0.0a0,!=4.0.0a1->fsspec[http]>=2022.5.0->pytorch-lightning->islp) (1.9.4)\n",
      "Requirement already satisfied: async-timeout<5.0,>=4.0 in c:\\users\\user\\miniconda3\\envs\\dsi_participant\\lib\\site-packages (from aiohttp!=4.0.0a0,!=4.0.0a1->fsspec[http]>=2022.5.0->pytorch-lightning->islp) (4.0.3)\n",
      "Requirement already satisfied: zipp>=3.1.0 in c:\\users\\user\\miniconda3\\envs\\dsi_participant\\lib\\site-packages (from importlib-resources>=3.2.0->matplotlib>=3.0->lifelines->islp) (3.17.0)\n",
      "Requirement already satisfied: idna>=2.0 in c:\\users\\user\\miniconda3\\envs\\dsi_participant\\lib\\site-packages (from yarl<2.0,>=1.0->aiohttp!=4.0.0a0,!=4.0.0a1->fsspec[http]>=2022.5.0->pytorch-lightning->islp) (3.7)\n",
      "Note: you may need to restart the kernel to use updated packages.\n"
     ]
    }
   ],
   "source": [
    "%pip install pandas\n",
    "%pip install seaborn\n",
    "%pip install statsmodels\n",
    "%pip install islp"
   ]
  },
  {
   "cell_type": "code",
   "execution_count": 3,
   "id": "b92f7c91",
   "metadata": {},
   "outputs": [],
   "source": [
    "import numpy as np\n",
    "import pandas as pd\n",
    "import matplotlib.pyplot as plt\n",
    "import statsmodels.api as sm"
   ]
  },
  {
   "cell_type": "markdown",
   "id": "d7fff1dd-e4ce-4a60-96a0-d08136e9bf5e",
   "metadata": {},
   "source": [
    "### Question 1: Resampling via Bootstrapping\n",
    "\n",
    "Now, we'll use the `iris` dataset, which we will add to Python using the `statsmodels` library. As always, start by reviewing a description of the dataset, by printing the dataset."
   ]
  },
  {
   "cell_type": "code",
   "execution_count": 4,
   "id": "47f4dcf5-0d4c-41ea-892d-d9f2c1aa1859",
   "metadata": {},
   "outputs": [],
   "source": [
    "# Import\n",
    "iris = sm.datasets.get_rdataset('iris', 'datasets')\n",
    "df = pd.DataFrame(iris.data)"
   ]
  },
  {
   "cell_type": "markdown",
   "id": "7717a32c",
   "metadata": {},
   "source": [
    "_(i)_ Create an `alpha_func(D, idx)` function which takes the `Sepal`'s `width` and `length` to calculate for alpha"
   ]
  },
  {
   "cell_type": "code",
   "execution_count": 8,
   "id": "f3da5483",
   "metadata": {},
   "outputs": [],
   "source": [
    "# Your code here\n",
    "def alpha_func(D, idx):\n",
    "    sepal_length = D.loc[idx, 'Sepal.Length']\n",
    "    sepal_width = D.loc[idx, 'Sepal.Width']\n",
    "    return (sepal_length * sepal_width).mean()\n",
    "\n",
    "\n"
   ]
  },
  {
   "cell_type": "markdown",
   "id": "ff94d66b",
   "metadata": {},
   "source": [
    "Test the code below"
   ]
  },
  {
   "cell_type": "code",
   "execution_count": 9,
   "id": "eda715cd",
   "metadata": {},
   "outputs": [
    {
     "data": {
      "text/plain": [
       "16.892"
      ]
     },
     "execution_count": 9,
     "metadata": {},
     "output_type": "execute_result"
    }
   ],
   "source": [
    "alpha_func(df, range(100))"
   ]
  },
  {
   "cell_type": "markdown",
   "id": "f338b14e",
   "metadata": {},
   "source": [
    "_(ii)_ Construct a new bootstrap data set and recompute alpha"
   ]
  },
  {
   "cell_type": "code",
   "execution_count": 10,
   "id": "34ee835f",
   "metadata": {},
   "outputs": [
    {
     "data": {
      "text/plain": [
       "16.518800000000002"
      ]
     },
     "execution_count": 10,
     "metadata": {},
     "output_type": "execute_result"
    }
   ],
   "source": [
    "rng = np.random.default_rng(0)\n",
    "alpha_func(df,\n",
    "           rng.choice(100,\n",
    "                      100,\n",
    "                      replace=True))"
   ]
  },
  {
   "cell_type": "markdown",
   "id": "056080ff-7aec-41aa-bb61-763b390e4cf2",
   "metadata": {},
   "source": [
    "Imagine we are analysts working for a shipping company. The company wants to know the average length of iris' petals, to inform space allotment on an upcoming shipment. The relevant variable in the dataset is `Sepal.Length`. \n",
    "\n",
    "_(iii)_ Why is it (perhaps) not sufficient to simply calculate the mean of `Sepal.Length`? What more information will preforming a bootstrap provide to us?  \n",
    "\n",
    "_(iv)_ We can perform bootstrapping in Python by defining a simple function using `boot_SE()` for computing the bootstrap standard error. Remember, because bootstrapping involves randomness, we must first set a seed for reproducibility!"
   ]
  },
  {
   "cell_type": "markdown",
   "id": "57621010",
   "metadata": {},
   "source": [
    "(iii) Simply calculating the mean of Sepal.Length provides a point estimate but does not convey information about the uncertainty or variability of \n",
    "that estimate. Bootstrapping helps us understand the distribution of the mean and provides a way to estimate confidence intervals, giving us a better sense\n",
    "of the range in which the true mean likely falls."
   ]
  },
  {
   "cell_type": "code",
   "execution_count": 13,
   "id": "77540f76-7747-4dba-8e77-e1ded54af536",
   "metadata": {},
   "outputs": [],
   "source": [
    "# Add your code here to set the seed\n",
    "def boot_SE(data, func, B=1000):\n",
    "    rng = np.random.default_rng(0)\n",
    "    boot_samples = [func(data, rng.choice(len(data), len(data), replace=True)) for _ in range(B)]\n",
    "    return np.std(boot_samples)\n",
    "\n",
    "# Setting the seed for reproducibility\n",
    "np.random.seed(0)\n",
    "\n"
   ]
  },
  {
   "cell_type": "markdown",
   "id": "8a543472",
   "metadata": {},
   "source": [
    "_(v)_ Evaluate the accuracy of our alpha estimate with B = 1000"
   ]
  },
  {
   "cell_type": "code",
   "execution_count": 14,
   "id": "9ed41c4e",
   "metadata": {},
   "outputs": [
    {
     "name": "stdout",
     "output_type": "stream",
     "text": [
      "Bootstrap standard error of alpha: 0.2797661428776145\n"
     ]
    }
   ],
   "source": [
    "# Your code here\n",
    "boot_alpha_SE = boot_SE(df, alpha_func, B=1000)\n",
    "print(f\"Bootstrap standard error of alpha: {boot_alpha_SE}\")\n"
   ]
  },
  {
   "cell_type": "markdown",
   "id": "2e5e0c7f",
   "metadata": {},
   "source": [
    "_(vi)_ What is the original mean value of `Sepal.Length`?"
   ]
  },
  {
   "cell_type": "code",
   "execution_count": 15,
   "id": "7c9d5004",
   "metadata": {},
   "outputs": [
    {
     "name": "stdout",
     "output_type": "stream",
     "text": [
      "Original mean of Sepal.Length: 5.843333333333334\n"
     ]
    }
   ],
   "source": [
    "# Your code here\n",
    "original_mean_sepal_length = df['Sepal.Length'].mean()\n",
    "print(f\"Original mean of Sepal.Length: {original_mean_sepal_length}\")\n"
   ]
  },
  {
   "cell_type": "markdown",
   "id": "785fe758-f395-40b6-a9a3-28ec2efeba29",
   "metadata": {},
   "source": [
    "Next, let's create a new bootstrapping to bootstrap samples (`boot_se_samples`) of `Sepal.Length`, in order to compute its bootstrapped mean and standard deviation.\n",
    "\n",
    "_(vii)_. Write code to review the bootstrapped mean value, and the standard deviation of the bootstrapped samples. Compare the mean against its original value. Then, review the bootstrapped range, by using `t_range = np.ptp(boot_se_samples)`."
   ]
  },
  {
   "cell_type": "code",
   "execution_count": 21,
   "id": "7686243c",
   "metadata": {},
   "outputs": [
    {
     "name": "stdout",
     "output_type": "stream",
     "text": [
      "Bootstrapped mean of Sepal.Length: 5.843468\n",
      "Bootstrapped standard deviation of Sepal.Length: 0.07163134384083858\n",
      "Difference between original mean and bootstrapped mean: -0.00013466666666595017\n",
      "Range of bootstrapped samples: 0.46199999999999974\n"
     ]
    }
   ],
   "source": [
    "# Add your code here\n",
    "boot_se_samples = [df['Sepal.Length'].sample(frac=1, replace=True).mean() for _ in range(1000)]\n",
    "boot_mean = np.mean(boot_se_samples)\n",
    "boot_std = np.std(boot_se_samples)\n",
    "\n",
    "print(f\"Bootstrapped mean of Sepal.Length: {boot_mean}\")\n",
    "print(f\"Bootstrapped standard deviation of Sepal.Length: {boot_std}\")\n",
    "\n",
    "print(f\"Difference between original mean and bootstrapped mean: {original_mean_sepal_length - boot_mean}\")\n",
    "\n",
    "t_range = np.ptp(boot_se_samples)\n",
    "print(f\"Range of bootstrapped samples: {t_range}\")\n",
    "\n"
   ]
  },
  {
   "cell_type": "markdown",
   "id": "66c6c663-f3bb-4a15-8896-6dccfb7259fd",
   "metadata": {},
   "source": [
    "_(viii)_ Next, let's compute 95% confidence intervals, for the mean value of iris sepal length. (Hint: use the `np.percentile` function)"
   ]
  },
  {
   "cell_type": "code",
   "execution_count": 17,
   "id": "74de4a76-e500-4c93-82a9-e7365cc86c91",
   "metadata": {},
   "outputs": [
    {
     "name": "stdout",
     "output_type": "stream",
     "text": [
      "95% confidence interval: [5.71665 5.972  ]\n"
     ]
    }
   ],
   "source": [
    "# Add your code here\n",
    "conf_interval = np.percentile(boot_se_samples, [2.5, 97.5])\n",
    "print(f\"95% confidence interval: {conf_interval}\")\n"
   ]
  },
  {
   "cell_type": "markdown",
   "id": "488e54f7-ebe4-4740-835c-9832320005d0",
   "metadata": {},
   "source": [
    "_(ix)_. Use the plot function to create an histogram of the bootstrapped samples. What does this histogram show ?"
   ]
  },
  {
   "cell_type": "code",
   "execution_count": 18,
   "id": "4fca4e3f",
   "metadata": {},
   "outputs": [
    {
     "data": {
      "image/png": "[encoded data removed]",
      "text/plain": [
       "<Figure size 640x480 with 1 Axes>"
      ]
     },
     "metadata": {},
     "output_type": "display_data"
    }
   ],
   "source": [
    "#Complete this\n",
    "\n",
    "# Create a figure and axis\n",
    "fig, ax = plt.subplots()\n",
    "\n",
    "# Create the histogram\n",
    "ax.hist(boot_se_samples, bins=30, edgecolor='k', alpha=0.7)\n",
    "\n",
    "# Add a title\n",
    "ax.set_title('Bootstrapped Mean of Sepal.Length')\n",
    "\n",
    "# Add a label to the x-axis\n",
    "ax.set_xlabel('Sepal.Length')\n",
    "\n",
    "# Add a label to the y-axis\n",
    "ax.set_ylabel('Frequency')\n",
    "\n",
    "# Show the plot\n",
    "plt.show()\n"
   ]
  },
  {
   "cell_type": "markdown",
   "id": "9e57c008",
   "metadata": {},
   "source": [
    "The most frequent boostrapped mean is very close to original mean which indicates that that the boostraping is unbiased. The variability is low since most of the data are packed around the mean. "
   ]
  },
  {
   "cell_type": "markdown",
   "id": "bfa9a095-9c7a-4ab5-aa99-b11bf419fae0",
   "metadata": {},
   "source": [
    "_(x)_ Given your bootstrapped analysis, what do you recommend to shipping company? "
   ]
  },
  {
   "cell_type": "markdown",
   "id": "5e83202e-4aab-44bb-8586-5d0e82e9e201",
   "metadata": {},
   "source": [
    "# Write your answer here\n",
    "Based on the bootstrapped analysis,the shipping company can use the mean Sepal Length and its confidence interval to allocate space for irises more accurately. The variability and range provided by bootstrapping give a more reliable estimate, ensuring that the space allocation is neither too much nor too little, optimizing shipping efficiency."
   ]
  },
  {
   "cell_type": "markdown",
   "id": "466943e8",
   "metadata": {},
   "source": [
    "# Criteria\n",
    "\n",
    "|Criteria            |Complete           |Incomplete          |\n",
    "|--------------------|---------------|--------------|\n",
    "|Bootstrapping|All steps are done correctly and the answers are correct.|At least one step is done incorrectly leading to a wrong answer.|"
   ]
  },
  {
   "cell_type": "markdown",
   "id": "68b8a226",
   "metadata": {},
   "source": [
    "## Submission Information\n",
    "\n",
    "🚨 **Please review our [Assignment Submission Guide](https://github.com/UofT-DSI/onboarding/blob/main/onboarding_documents/submissions.md)** 🚨 for detailed instructions on how to format, branch, and submit your work. Following these guidelines is crucial for your submissions to be evaluated correctly.\n",
    "\n",
    "### Note:\n",
    "\n",
    "If you like, you may collaborate with others in the cohort. If you choose to do so, please indicate with whom you have worked with in your pull request by tagging their GitHub username. Separate submissions are required.\n",
    "\n",
    "\n",
    "### Submission Parameters:\n",
    "* Submission Due Date: `HH:MM AM/PM - DD/MM/YYYY`\n",
    "* The branch name for your repo should be: `assignment-3`\n",
    "* What to submit for this assignment:\n",
    "    * This Jupyter Notebook (assignment_3.ipynb) should be populated and should be the only change in your pull request.\n",
    "* What the pull request link should look like for this assignment: `https://github.com/<your_github_username>/applying_statistical_concepts/pull/<pr_id>`\n",
    "    * Open a private window in your browser. Copy and paste the link to your pull request into the address bar. Make sure you can see your pull request properly. This helps the technical facilitator and learning support staff review your submission easily.\n",
    "\n",
    "Checklist:\n",
    "- [ ] Created a branch with the correct naming convention.\n",
    "- [ ] Ensured that the repository is public.\n",
    "- [ ] Reviewed the PR description guidelines and adhered to them.\n",
    "- [ ] Verify that the link is accessible in a private browser window.\n",
    "\n",
    "If you encounter any difficulties or have questions, please don't hesitate to reach out to our team via our Slack at `#cohort-3-help`. Our Technical Facilitators and Learning Support staff are here to help you navigate any challenges.\n"
   ]
  }
 ],
 "metadata": {
  "kernelspec": {
   "display_name": "Python 3.10.4",
   "language": "python",
   "name": "python3"
  },
  "language_info": {
   "codemirror_mode": {
    "name": "ipython",
    "version": 3
   },
   "file_extension": ".py",
   "mimetype": "text/x-python",
   "name": "python",
   "nbconvert_exporter": "python",
   "pygments_lexer": "ipython3",
   "version": "3.9.19"
  },
  "vscode": {
   "interpreter": {
    "hash": "497a84dc8fec8cf8d24e7e87b6d954c9a18a327edc66feb9b9ea7e9e72cc5c7e"
   }
  }
 },
 "nbformat": 4,
 "nbformat_minor": 5
}
